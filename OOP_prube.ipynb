{
 "cells": [
  {
   "cell_type": "markdown",
   "metadata": {},
   "source": [
    "## Shortccuts\n",
    "F10 -> corre una linea\n"
   ]
  },
  {
   "cell_type": "code",
   "execution_count": 6,
   "metadata": {},
   "outputs": [
    {
     "data": {
      "text/plain": [
       "<__main__.Dog at 0x27a0fa9b110>"
      ]
     },
     "execution_count": 6,
     "metadata": {},
     "output_type": "execute_result"
    }
   ],
   "source": [
    "class Dog:\n",
    "    pass\n",
    "\n",
    "Dog()     ## pass hacer que no de error esto"
   ]
  },
  {
   "cell_type": "code",
   "execution_count": 7,
   "metadata": {},
   "outputs": [
    {
     "data": {
      "text/plain": [
       "<__main__.Dog at 0x27a0fa9ba90>"
      ]
     },
     "execution_count": 7,
     "metadata": {},
     "output_type": "execute_result"
    }
   ],
   "source": [
    "Dog()"
   ]
  },
  {
   "cell_type": "code",
   "execution_count": 2,
   "metadata": {},
   "outputs": [],
   "source": [
    "class Dog:\n",
    "    species = 'Canis Familiaris'              # atributos de clase, todas las intancias tendrán este valor de clase (afuera de init)\n",
    "      \n",
    "    def __init__(self, name, age,gender):     # Iniciar propiedades de la clase (atributos de instancias) individuales\n",
    "        self.name = name\n",
    "        self.age = age\n",
    "        self.gender = gender"
   ]
  },
  {
   "cell_type": "code",
   "execution_count": 7,
   "metadata": {},
   "outputs": [
    {
     "name": "stdout",
     "output_type": "stream",
     "text": [
      "<__main__.Dog object at 0x0000015B10643390>\n",
      "<__main__.Dog object at 0x0000015B10641810>\n"
     ]
    }
   ],
   "source": [
    "Tanji = Dog(\"Tanji\",2,\"M\")  # Crear instancias de la clase Dog\n",
    "Anya = Dog(\"Chiki\",2,\"F\")\n",
    "print(Tanji)                # Direcciones de memoria donde se encuentra instanciado el objeto\n",
    "print(Anya)"
   ]
  },
  {
   "cell_type": "code",
   "execution_count": 8,
   "metadata": {},
   "outputs": [
    {
     "name": "stdout",
     "output_type": "stream",
     "text": [
      "Tanji\n",
      "Canis Familiaris\n"
     ]
    }
   ],
   "source": [
    "print(Tanji.name)          # Acceder a atributos indivisutales \n",
    "print(Tanji.species)       # Acceder a atributos de clase\n"
   ]
  },
  {
   "cell_type": "code",
   "execution_count": 10,
   "metadata": {},
   "outputs": [
    {
     "name": "stdout",
     "output_type": "stream",
     "text": [
      "Felis silvestris\n"
     ]
    }
   ],
   "source": [
    "Anya.species= \"Felis silvestris\"  # MOdificación de atributo de clase para el objeto instanciado\n",
    "print(Anya.species)"
   ]
  },
  {
   "cell_type": "code",
   "execution_count": 37,
   "metadata": {},
   "outputs": [],
   "source": [
    "class Dog:\n",
    "    # Atributos de clase \n",
    "    \n",
    "    species = 'Canis Familiaris'              # atributos de clase, todas las intancias tendrán este valor de clase (afuera de init)\n",
    "     \n",
    "    # Atributos individuales   \n",
    "    def __init__(self, name, age,gender):     # Iniciar propiedades de la clase (atributos de instancias) individuales\n",
    "        self.name = name\n",
    "        self.age = age\n",
    "        self.gender = gender\n",
    "       \n",
    "    # Métodos de clase           \n",
    "    def description(self):\n",
    "        return f\"{self.name} is {self.age} years old\"\n",
    "\n",
    "    def speak(self, sound):\n",
    "        return f\"{self.name} says {sound}\""
   ]
  },
  {
   "cell_type": "code",
   "execution_count": 13,
   "metadata": {},
   "outputs": [
    {
     "name": "stdout",
     "output_type": "stream",
     "text": [
      "<__main__.Dog object at 0x00000252976D69D0>\n"
     ]
    }
   ],
   "source": [
    "Tanji = Dog(\"Tanji\",2,\"M\")\n",
    "Tanji.description()\n",
    "Tanji.speak(\"Woof\")   \n",
    "print(Tanji)   # en que espacio de memoria esta guardada la instancia (cambia cuando se crea nuevamente )"
   ]
  },
  {
   "cell_type": "code",
   "execution_count": 18,
   "metadata": {},
   "outputs": [],
   "source": [
    "class Dog_2:\n",
    "    # Atributos de clase \n",
    "    \n",
    "    species = 'Canis Familiaris'              # atributos de clase, todas las intancias tendrán este valor de clase (afuera de init)\n",
    "     \n",
    "    # Atributos individuales   \n",
    "    def __init__(self, name, age,gender):     # Iniciar propiedades de la clase (atributos de instancias) individuales\n",
    "        self.name = name\n",
    "        self.age = age\n",
    "        self.gender = gender\n",
    "    \n",
    "    # Método dunder (Empiezan con __ )\n",
    "    def __str__(self):                          # Descripción completa de los atributos iniciales \n",
    "        return f\"{self.name} is {self.age} years old {self.gender}\"\n",
    "    \n",
    "    # Métodos de clase \n",
    "               \n",
    "    def description(self):\n",
    "        return f\"{self.name} is {self.age} years old\"\n",
    "\n",
    "    def speak(self, sound):\n",
    "        return f\"{self.name} says {sound}\""
   ]
  },
  {
   "cell_type": "code",
   "execution_count": 19,
   "metadata": {},
   "outputs": [
    {
     "name": "stdout",
     "output_type": "stream",
     "text": [
      "Anya is 2 years old F\n"
     ]
    }
   ],
   "source": [
    "Anya = Dog_2(\"Anya\",2,'F')\n",
    "print(Anya)"
   ]
  },
  {
   "cell_type": "markdown",
   "metadata": {},
   "source": [
    "## Clase carro (ejemplo)"
   ]
  },
  {
   "cell_type": "code",
   "execution_count": 33,
   "metadata": {},
   "outputs": [],
   "source": [
    "class Car: \n",
    "    def __init__(self, color, mileage):\n",
    "        self.color = color\n",
    "        self.mileage = mileage\n",
    "        \n",
    "    def __str__(self):                          \n",
    "            return f\"the car {self.color} has {self.mileage} miles\"\n"
   ]
  },
  {
   "cell_type": "code",
   "execution_count": 32,
   "metadata": {},
   "outputs": [
    {
     "name": "stdout",
     "output_type": "stream",
     "text": [
      "the caar purple has 30000 miles\n"
     ]
    }
   ],
   "source": [
    "Chevy = Car(\"purple\",30000)\n",
    "print(Chevy)"
   ]
  },
  {
   "cell_type": "markdown",
   "metadata": {},
   "source": [
    "## Herencia"
   ]
  },
  {
   "cell_type": "code",
   "execution_count": 35,
   "metadata": {},
   "outputs": [],
   "source": [
    "class Parent:\n",
    "    hair = \"brown\"\n",
    "    \n",
    "class Ching(Parent):\n",
    "    pass"
   ]
  },
  {
   "cell_type": "code",
   "execution_count": null,
   "metadata": {},
   "outputs": [],
   "source": [
    "class Parent:\n",
    "    hair = \"brown\"\n",
    "    \n",
    "class Ching(Parent):\n",
    "    hair = \"purple\"         # Se puede cambiar el color de pelo "
   ]
  },
  {
   "cell_type": "code",
   "execution_count": 36,
   "metadata": {},
   "outputs": [],
   "source": [
    "class Parent:\n",
    "    speaks = [\"English\"]\n",
    "\n",
    "class Child(Parent):\n",
    "    def __init__(self):\n",
    "        super().__init__()\n",
    "        self.speaks.append(\"German\")"
   ]
  },
  {
   "cell_type": "code",
   "execution_count": 41,
   "metadata": {},
   "outputs": [],
   "source": [
    "# Regresando al ejemplo del parque de perros \n",
    "\n",
    "class Dog:\n",
    "    species = \"Canis familiaris\"\n",
    "\n",
    "    def __init__(self, name, age, breed):\n",
    "        self.name = name\n",
    "        self.age = age\n",
    "        self.breed = breed\n",
    "\n",
    "    def __str__(self):\n",
    "        return f\"{self.name} is {self.age} years old\"\n",
    "\n",
    "    def speak(self, sound):\n",
    "        return f\"{self.name} says {sound}\"\n",
    "    \n"
   ]
  },
  {
   "cell_type": "code",
   "execution_count": 43,
   "metadata": {},
   "outputs": [],
   "source": [
    "Tanji = Dog(\"Tanji\", 2, 'Border Collie')\n",
    "Anya  = Dog(\"Anya\", 2, 'Border Collie')\n",
    "Bombon = Dog(\"Bombon\", 5, 'Cruza')"
   ]
  },
  {
   "cell_type": "code",
   "execution_count": 44,
   "metadata": {},
   "outputs": [
    {
     "data": {
      "text/plain": [
       "'Tanji says Wuoof'"
      ]
     },
     "execution_count": 44,
     "metadata": {},
     "output_type": "execute_result"
    }
   ],
   "source": [
    "Tanji.speak(\"Wuoof\")"
   ]
  },
  {
   "cell_type": "code",
   "execution_count": 52,
   "metadata": {},
   "outputs": [],
   "source": [
    "class Dog:\n",
    "    species = \"Canis familiaris\"\n",
    "\n",
    "    def __init__(self, name, age):\n",
    "        self.name = name\n",
    "        self.age = age\n",
    "        \n",
    "    def __str__(self):\n",
    "        return f\"{self.name} is {self.age} years old\"\n",
    "\n",
    "    def speak(self, sound):\n",
    "        return f\"{self.name} says {sound}\"\n",
    "    \n"
   ]
  },
  {
   "cell_type": "code",
   "execution_count": 53,
   "metadata": {},
   "outputs": [],
   "source": [
    "class BoderCollie(Dog):\n",
    "    pass\n",
    "\n",
    "class Cruza(Dog):\n",
    "    pass\n"
   ]
  },
  {
   "cell_type": "code",
   "execution_count": 56,
   "metadata": {},
   "outputs": [
    {
     "name": "stdout",
     "output_type": "stream",
     "text": [
      "<class '__main__.Cruza'>\n"
     ]
    }
   ],
   "source": [
    "bombon = Cruza(\"Bombon\",5)\n",
    "bombon.species\n",
    "print(type(bombon))"
   ]
  },
  {
   "cell_type": "code",
   "execution_count": 57,
   "metadata": {},
   "outputs": [
    {
     "data": {
      "text/plain": [
       "True"
      ]
     },
     "execution_count": 57,
     "metadata": {},
     "output_type": "execute_result"
    }
   ],
   "source": [
    "isinstance(bombon,Dog)"
   ]
  },
  {
   "cell_type": "code",
   "execution_count": 58,
   "metadata": {},
   "outputs": [
    {
     "data": {
      "text/plain": [
       "False"
      ]
     },
     "execution_count": 58,
     "metadata": {},
     "output_type": "execute_result"
    }
   ],
   "source": [
    "isinstance(bombon,BoderCollie)"
   ]
  },
  {
   "cell_type": "code",
   "execution_count": 65,
   "metadata": {},
   "outputs": [],
   "source": [
    "class BoderCollie(Dog):\n",
    "    \n",
    "    def speak(self, sound = \"Wouwou\"):\n",
    "        return f\"{self.name} says {sound}\"\n",
    "    \n",
    "    \n",
    "class Cruza(Dog):\n",
    "    def speak(self, sound = \"WoWoo\"):  # sound puede modificarse de manera personal pero de manera automatica todo tendran este string \n",
    "        return f\"{self.name} says {sound}\"\n"
   ]
  },
  {
   "cell_type": "code",
   "execution_count": 61,
   "metadata": {},
   "outputs": [
    {
     "data": {
      "text/plain": [
       "'Tanji says Wouwou'"
      ]
     },
     "execution_count": 61,
     "metadata": {},
     "output_type": "execute_result"
    }
   ],
   "source": [
    "Tanji = BoderCollie(\"Tanji\",2)\n",
    "Tanji.speak()"
   ]
  },
  {
   "cell_type": "code",
   "execution_count": 64,
   "metadata": {},
   "outputs": [
    {
     "data": {
      "text/plain": [
       "'Tanji says Grrr'"
      ]
     },
     "execution_count": 64,
     "metadata": {},
     "output_type": "execute_result"
    }
   ],
   "source": [
    "Tanji = BoderCollie(\"Tanji\",2)\n",
    "Tanji.speak(\"Grrr\")"
   ]
  },
  {
   "cell_type": "code",
   "execution_count": null,
   "metadata": {},
   "outputs": [],
   "source": [
    "# Se puede reescribir la clase padre pero si un metodo se sobreescribe de la clase hijo, este no cambiara\n",
    "class Dog:\n",
    "    species = \"Canis familiaris\"\n",
    "\n",
    "    def __init__(self, name, age):\n",
    "        self.name = name\n",
    "        self.age = age\n",
    "        \n",
    "    def __str__(self):\n",
    "        return f\"{self.name} is {self.age} years old\"\n",
    "\n",
    "    def speak(self, sound):\n",
    "        return f\"{self.name} says {sound}\""
   ]
  },
  {
   "cell_type": "code",
   "execution_count": 63,
   "metadata": {},
   "outputs": [
    {
     "data": {
      "text/plain": [
       "'kiki says Kiki'"
      ]
     },
     "execution_count": 63,
     "metadata": {},
     "output_type": "execute_result"
    }
   ],
   "source": [
    "kiki = Cruza(\"kiki\",5)\n",
    "kiki.speak(\"Kiki\")"
   ]
  },
  {
   "cell_type": "code",
   "execution_count": 67,
   "metadata": {},
   "outputs": [
    {
     "data": {
      "text/plain": [
       "'Pochi says Wouwou'"
      ]
     },
     "execution_count": 67,
     "metadata": {},
     "output_type": "execute_result"
    }
   ],
   "source": [
    "Pochita = BoderCollie(\"Pochi\",2)\n",
    "Pochita.speak()\n"
   ]
  },
  {
   "cell_type": "code",
   "execution_count": 68,
   "metadata": {},
   "outputs": [],
   "source": [
    "class BoderCollie(Dog):\n",
    "    \n",
    "    def speak(self, sound = \"Wouwou\"):\n",
    "        return super().speak(sound)\n",
    "    "
   ]
  },
  {
   "cell_type": "code",
   "execution_count": 69,
   "metadata": {},
   "outputs": [
    {
     "data": {
      "text/plain": [
       "'Tanji says Wouwou'"
      ]
     },
     "execution_count": 69,
     "metadata": {},
     "output_type": "execute_result"
    }
   ],
   "source": [
    "Tanji = BoderCollie(\"Tanji\",2)\n",
    "Tanji.speak()"
   ]
  },
  {
   "cell_type": "code",
   "execution_count": null,
   "metadata": {},
   "outputs": [],
   "source": []
  }
 ],
 "metadata": {
  "kernelspec": {
   "display_name": "base",
   "language": "python",
   "name": "python3"
  },
  "language_info": {
   "codemirror_mode": {
    "name": "ipython",
    "version": 3
   },
   "file_extension": ".py",
   "mimetype": "text/x-python",
   "name": "python",
   "nbconvert_exporter": "python",
   "pygments_lexer": "ipython3",
   "version": "3.11.5"
  }
 },
 "nbformat": 4,
 "nbformat_minor": 2
}
