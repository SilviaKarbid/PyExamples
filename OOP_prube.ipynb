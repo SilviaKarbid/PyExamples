{
 "cells": [
  {
   "cell_type": "markdown",
   "metadata": {},
   "source": [
    "## Shortccuts\n",
    "F10 -> corre una linea\n"
   ]
  },
  {
   "cell_type": "code",
   "execution_count": 6,
   "metadata": {},
   "outputs": [
    {
     "data": {
      "text/plain": [
       "<__main__.Dog at 0x27a0fa9b110>"
      ]
     },
     "execution_count": 6,
     "metadata": {},
     "output_type": "execute_result"
    }
   ],
   "source": [
    "class Dog:\n",
    "    pass\n",
    "\n",
    "Dog()     ## pass hacer que no de error esto"
   ]
  },
  {
   "cell_type": "code",
   "execution_count": 7,
   "metadata": {},
   "outputs": [
    {
     "data": {
      "text/plain": [
       "<__main__.Dog at 0x27a0fa9ba90>"
      ]
     },
     "execution_count": 7,
     "metadata": {},
     "output_type": "execute_result"
    }
   ],
   "source": [
    "Dog()"
   ]
  },
  {
   "cell_type": "code",
   "execution_count": 2,
   "metadata": {},
   "outputs": [],
   "source": [
    "class Dog:\n",
    "    species = 'Canis Familiaris'              # atributos de clase, todas las intancias tendrán este valor de clase (afuera de init)\n",
    "      \n",
    "    def __init__(self, name, age,gender):     # Iniciar propiedades de la clase (atributos de instancias) individuales\n",
    "        self.name = name\n",
    "        self.age = age\n",
    "        self.gender = gender"
   ]
  },
  {
   "cell_type": "code",
   "execution_count": 7,
   "metadata": {},
   "outputs": [
    {
     "name": "stdout",
     "output_type": "stream",
     "text": [
      "<__main__.Dog object at 0x0000015B10643390>\n",
      "<__main__.Dog object at 0x0000015B10641810>\n"
     ]
    }
   ],
   "source": [
    "Tanji = Dog(\"Tanji\",2,\"M\")  # Crear instancias de la clase Dog\n",
    "Anya = Dog(\"Chiki\",2,\"F\")\n",
    "print(Tanji)                # Direcciones de memoria donde se encuentra instanciado el objeto\n",
    "print(Anya)"
   ]
  },
  {
   "cell_type": "code",
   "execution_count": 8,
   "metadata": {},
   "outputs": [
    {
     "name": "stdout",
     "output_type": "stream",
     "text": [
      "Tanji\n",
      "Canis Familiaris\n"
     ]
    }
   ],
   "source": [
    "print(Tanji.name)          # Acceder a atributos indivisutales \n",
    "print(Tanji.species)       # Acceder a atributos de clase\n"
   ]
  },
  {
   "cell_type": "code",
   "execution_count": 10,
   "metadata": {},
   "outputs": [
    {
     "name": "stdout",
     "output_type": "stream",
     "text": [
      "Felis silvestris\n"
     ]
    }
   ],
   "source": [
    "Anya.species= \"Felis silvestris\"  # MOdificación de atributo de clase para el objeto instanciado\n",
    "print(Anya.species)"
   ]
  },
  {
   "cell_type": "code",
   "execution_count": 12,
   "metadata": {},
   "outputs": [],
   "source": [
    "class Dog:\n",
    "    # Atributos de clase \n",
    "    \n",
    "    species = 'Canis Familiaris'              # atributos de clase, todas las intancias tendrán este valor de clase (afuera de init)\n",
    "     \n",
    "    # Atributos individuales   \n",
    "    def __init__(self, name, age,gender):     # Iniciar propiedades de la clase (atributos de instancias) individuales\n",
    "        self.name = name\n",
    "        self.age = age\n",
    "        self.gender = gender\n",
    "       \n",
    "    # Métodos de clase           \n",
    "    def description(self):\n",
    "        return f\"{self.name} is {self.age} years old\"\n",
    "\n",
    "    def speak(self, sound):\n",
    "        return f\"{self.name} says {sound}\""
   ]
  },
  {
   "cell_type": "code",
   "execution_count": 13,
   "metadata": {},
   "outputs": [
    {
     "name": "stdout",
     "output_type": "stream",
     "text": [
      "<__main__.Dog object at 0x00000252976D69D0>\n"
     ]
    }
   ],
   "source": [
    "Tanji = Dog(\"Tanji\",2,\"M\")\n",
    "Tanji.description()\n",
    "Tanji.speak(\"Woof\")   \n",
    "print(Tanji)   # en que espacio de memoria esta guardada la instancia (cambia cuando se crea nuevamente )"
   ]
  },
  {
   "cell_type": "code",
   "execution_count": 18,
   "metadata": {},
   "outputs": [],
   "source": [
    "class Dog_2:\n",
    "    # Atributos de clase \n",
    "    \n",
    "    species = 'Canis Familiaris'              # atributos de clase, todas las intancias tendrán este valor de clase (afuera de init)\n",
    "     \n",
    "    # Atributos individuales   \n",
    "    def __init__(self, name, age,gender):     # Iniciar propiedades de la clase (atributos de instancias) individuales\n",
    "        self.name = name\n",
    "        self.age = age\n",
    "        self.gender = gender\n",
    "    \n",
    "    # Método dunder (Empiezan con __ )\n",
    "    def __str__(self):                          # Descripción completa de los atributos iniciales \n",
    "        return f\"{self.name} is {self.age} years old {self.gender}\"\n",
    "    \n",
    "    # Métodos de clase \n",
    "               \n",
    "    def description(self):\n",
    "        return f\"{self.name} is {self.age} years old\"\n",
    "\n",
    "    def speak(self, sound):\n",
    "        return f\"{self.name} says {sound}\""
   ]
  },
  {
   "cell_type": "code",
   "execution_count": 19,
   "metadata": {},
   "outputs": [
    {
     "name": "stdout",
     "output_type": "stream",
     "text": [
      "Anya is 2 years old F\n"
     ]
    }
   ],
   "source": [
    "Anya = Dog_2(\"Anya\",2,'F')\n",
    "print(Anya)"
   ]
  },
  {
   "cell_type": "markdown",
   "metadata": {},
   "source": [
    "## Clase carro (ejemplo)"
   ]
  },
  {
   "cell_type": "code",
   "execution_count": 33,
   "metadata": {},
   "outputs": [],
   "source": [
    "class Car: \n",
    "    def __init__(self, color, mileage):\n",
    "        self.color = color\n",
    "        self.mileage = mileage\n",
    "        \n",
    "    def __str__(self):                          \n",
    "            return f\"the car {self.color} has {self.mileage} miles\"\n"
   ]
  },
  {
   "cell_type": "code",
   "execution_count": 32,
   "metadata": {},
   "outputs": [
    {
     "name": "stdout",
     "output_type": "stream",
     "text": [
      "the caar purple has 30000 miles\n"
     ]
    }
   ],
   "source": [
    "Chevy = Car(\"purple\",30000)\n",
    "print(Chevy)"
   ]
  },
  {
   "cell_type": "markdown",
   "metadata": {},
   "source": [
    "## Herencia"
   ]
  },
  {
   "cell_type": "code",
   "execution_count": null,
   "metadata": {},
   "outputs": [],
   "source": []
  }
 ],
 "metadata": {
  "kernelspec": {
   "display_name": "base",
   "language": "python",
   "name": "python3"
  },
  "language_info": {
   "codemirror_mode": {
    "name": "ipython",
    "version": 3
   },
   "file_extension": ".py",
   "mimetype": "text/x-python",
   "name": "python",
   "nbconvert_exporter": "python",
   "pygments_lexer": "ipython3",
   "version": "3.11.5"
  }
 },
 "nbformat": 4,
 "nbformat_minor": 2
}
